{
 "cells": [
  {
   "cell_type": "markdown",
   "id": "9d3a98ab",
   "metadata": {},
   "source": [
    "## Q.1 What exactly is the difference between descriptive and inferential statistics?"
   ]
  },
  {
   "cell_type": "markdown",
   "id": "c3fd8393",
   "metadata": {},
   "source": [
    "**Descriptive statistics**-> basically focus on describing the visinble characters of a dataset whteher it is a population or sample .It basically consist of organising and summarizing of data. "
   ]
  },
  {
   "cell_type": "markdown",
   "id": "28eb6432",
   "metadata": {},
   "source": [
    "There are various aspects in which descriptive statistics can be used:-\n",
    "1. Measure of Centeral Tendency(Mean, Median and Mode)\n",
    "2. Measure of Disepersion (Variance, Standarad Deviation."
   ]
  },
  {
   "cell_type": "markdown",
   "id": "b7a69b4c",
   "metadata": {},
   "source": [
    "**Inferential Statistics**-> basically focus on doing expiremnets and making predicitions and generalising large dataset while considering them in sample"
   ]
  },
  {
   "cell_type": "raw",
   "id": "22e5d61c",
   "metadata": {},
   "source": [
    "There are various aspects in which Inferential statistics can be used:-\n",
    "1. z-test\n",
    "2.t-test\n",
    "3.Hypothesis testing\n",
    "4. Anova Test\n",
    "5. Pearson Correlation\n"
   ]
  },
  {
   "cell_type": "markdown",
   "id": "2f4b413b",
   "metadata": {},
   "source": [
    "## Q.2. I'm not sure what is the difference between a sample and a population?"
   ]
  },
  {
   "cell_type": "markdown",
   "id": "2689c3e6",
   "metadata": {},
   "source": [
    "**Population**-> It includes all members from a specified group all possible outcomes or mesaurements are ara of interests whenever we take out mean when there is population it is denoted by N( Number of terms) which donates we are taking mean of population basically the obeservation is taking of all population or data.\n",
    "\n",
    "**Sample**-> It consists of some observations drawn from the population basically a part or a subset of a population. It is denoted by n (number of terms in sample) while taking out sample mean.\n",
    "\n",
    "\n",
    "Formula you can see below image which clearly understand:-\n"
   ]
  },
  {
   "cell_type": "code",
   "execution_count": 3,
   "id": "a1a52d83",
   "metadata": {},
   "outputs": [
    {
     "data": {
      "image/png": "[encoded data removed]",
      "text/plain": [
       "<IPython.core.display.Image object>"
      ]
     },
     "execution_count": 3,
     "metadata": {},
     "output_type": "execute_result"
    }
   ],
   "source": [
    "from IPython.display import Image\n",
    "Image(filename='population-mean.png')"
   ]
  },
  {
   "cell_type": "markdown",
   "id": "e3f7fed2",
   "metadata": {},
   "source": [
    "## Q.3. What distinguishes descriptive statistics from other types of statistics?"
   ]
  },
  {
   "cell_type": "markdown",
   "id": "6795ec08",
   "metadata": {},
   "source": [
    "The basic differnce which make descriptive statistics different from other type of statistcs because It is used in other statistcs where we are  using formula in t-test, z-test etc so in which inferential stats the formula which is uesd in which it asks for mena , variance etc It helps to calculate it first in descriptive statistcs as well as for predictive stats too you need descriptive stats to be done first Standard deviation is the biggest ecxample of descriptive which can bne taken out from it and used in inferential statistics"
   ]
  },
  {
   "cell_type": "markdown",
   "id": "ebee091d",
   "metadata": {},
   "source": [
    "## Q.4  What is the difference between quantitative and qualitative data?"
   ]
  },
  {
   "cell_type": "markdown",
   "id": "266dac6d",
   "metadata": {},
   "source": [
    "The differnce between Quantative and Qualitative data is:-\n",
    "    \n",
    "**Qunatative data**:- It is a type of data which depends on number a kind of fixed number as well as  in a decimal form or varying is known as Qunatative data\n",
    "\n",
    "Qunatative data is of two types:-\n",
    "1.Discrete Qunatative variable:- eg like {1,2,3,4,5}\n",
    "\n",
    "2. Continuous Quantative variable:- Age:- 25.5, 35.7\n",
    "\n",
    "**Qualitative data**:-  It depends on categorical variable like gender:- male and female as well as color in form of red, blue and green etc.\n",
    "\n",
    "\n"
   ]
  },
  {
   "cell_type": "markdown",
   "id": "c0755581",
   "metadata": {},
   "source": [
    "## Q5. What is the definition of a percentile?"
   ]
  },
  {
   "cell_type": "markdown",
   "id": "97c0d205",
   "metadata": {},
   "source": [
    "A percentile is a value below which certain percentage of obeservation lie.\n",
    "\n",
    "eg :- dataset={2,2,3,4,5,5,5,6,7,8,8,8,8,8,9,9,9,10,11,11,12}\n",
    "    \n",
    "** What is a percentile ranking of value 10 ?**\n",
    "\n",
    "x = #of values below * 100/n\n",
    "\n",
    "x = 16 *100 / 20\n",
    "\n",
    "x = 80%\n",
    "\n",
    "\n",
    "So the number below 10 are less than 80%\n",
    "\n",
    "Suppose if want to find the exist value in percentile ranking like we have to find in 25%?\n",
    "\n",
    "value = percentile * (n+1) /100\n",
    "\n",
    "value = 25 * (20+1)/100\n",
    "\n",
    "value = 5th index\n",
    "\n",
    "value will come in form of index after that we have to take a number acc to index and one forward number which will be 6th index and find mean you will et answer.\n",
    "\n",
    "5th index + 6th index /2 \n",
    "\n",
    "5+5/2\n",
    "\n",
    "5 below which all numbers are less than 25% and 5 is at 25%\n",
    "\n",
    "\n",
    "\n"
   ]
  },
  {
   "cell_type": "markdown",
   "id": "2d379fcb",
   "metadata": {},
   "source": [
    "# THE END"
   ]
  }
 ],
 "metadata": {
  "kernelspec": {
   "display_name": "Python 3 (ipykernel)",
   "language": "python",
   "name": "python3"
  },
  "language_info": {
   "codemirror_mode": {
    "name": "ipython",
    "version": 3
   },
   "file_extension": ".py",
   "mimetype": "text/x-python",
   "name": "python",
   "nbconvert_exporter": "python",
   "pygments_lexer": "ipython3",
   "version": "3.11.7"
  }
 },
 "nbformat": 4,
 "nbformat_minor": 5
}
